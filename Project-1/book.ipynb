{
 "cells": [
  {
   "cell_type": "markdown",
   "metadata": {},
   "source": [
    "# Book 1:\n",
    "Decription: *John's Other Practice* by Winston K. Marks (1915-1979) <br>\n",
    "URL: https://www.gutenberg.org/ebooks/66360 <br>\n",
    "Lisence Information: This eBook is for the use of anyone anywhere in the United States and most other parts of the world at no cost and with almost no restrictions whatsoever. You may copy it, give it away or re-use it under the terms of the Project Gutenberg License included with this eBook or online at www.gutenberg.org. If you are not located in the United States, you will have to check the laws of the country where you are located before using this eBook. <br>\n",
    "Encoding: UTF-8 <br>\n",
    "Question: What are the top 10 most frequently mentioned words in *John's Other Practice* and how often are each of them mentioned?\n",
    "\n",
    "# Book 2:\n",
    "Decription: *The Cosmic Courtship* by Julian Hawthorne (1846-1934) <br>\n",
    "URL: https://www.gutenberg.org/ebooks/66349 <br>\n",
    "Lisence Information: This eBook is for the use of anyone anywhere in the United States and most other parts of the world at no cost and with almost no restrictions whatsoever. You may copy it, give it away or re-use it under the terms of the Project Gutenberg License included with this eBook or online at www.gutenberg.org. If you are not located in the United States, you will have to check the laws of the country where you are located before using this eBook. <br>\n",
    "Encoding: UTF-8 <br>\n",
    "Question: Are the pronouns in *The Cosmic Courtship* predominantly male or female?"
   ]
  },
  {
   "cell_type": "markdown",
   "metadata": {},
   "source": [
    "# Book 1 Answer"
   ]
  },
  {
   "cell_type": "markdown",
   "metadata": {},
   "source": [
    "The code below opens *John's Other Practice* and reads all the words in it into a dictionary that counts how many there are of each word (not case sensitive)."
   ]
  },
  {
   "cell_type": "code",
   "execution_count": 28,
   "metadata": {},
   "outputs": [
    {
     "name": "stdout",
     "output_type": "stream",
     "text": [
      "{'\\ufeffthe': 1, 'project': 83, 'gutenberg': 25, 'ebook': 8, 'of': 243, \"john's\": 6, 'other': 26, 'practice,': 1, 'by': 31, 'winston': 3, 'marks': 3, 'this': 79, 'is': 38, 'for': 51, 'the': 468, 'use': 14, 'anyone': 4, 'anywhere': 2, 'in': 135, 'united': 15, 'states': 11, 'and': 160, 'most': 7, 'parts': 2, 'world': 2, 'at': 37, 'no': 21, 'cost': 3, 'with': 84, 'almost': 6, 'restrictions': 3, 'whatsoever.': 2, 'you': 128, 'may': 17, 'copy': 8, 'it,': 6, 'give': 9, 'it': 50, 'away': 2, 'or': 85, 're-use': 2, 'under': 7, 'terms': 22, 'license': 13, 'included': 2, 'online': 5, 'www.gutenberg.org.': 2, 'if': 29, 'are': 37, 'not': 39, 'located': 7, 'states,': 4, 'will': 15, 'have': 30, 'to': 195, 'check': 5, 'laws': 10, 'country': 4, 'where': 8, 'before': 16, 'using': 6, 'ebook.': 2, 'title:': 1, 'practice': 8, 'author:': 1, 'release': 1, 'date:': 1, 'september': 1, '22,': 1, '2021': 1, '[ebook': 1, '#66360]': 1, 'language:': 1, 'english': 1, 'character': 1, 'set': 12, 'encoding:': 1, 'utf-8': 1, 'produced': 4, 'by:': 1, 'greg': 1, 'weeks,': 1, 'mary': 1, 'meehan': 1, 'distributed': 4, 'proofreading': 1, 'team': 2, 'http://www.pgdp.net': 1, '***': 4, 'start': 2, 'slot': 4, 'machines': 9, 'usually': 1, 'a': 217, 'big': 3, 'pain': 1, 'wallet.': 1, 'but': 27, \"cunningham's\": 4, 'symptometer': 10, 'was': 66, 'more': 11, 'considerate--it': 1, 'also': 5, 'diagnosed': 1, 'pain....': 1, \"[transcriber's\": 1, 'note:': 1, 'etext': 1, 'from': 44, 'imagination': 1, 'stories': 1, 'science': 1, 'fantasy': 1, 'july': 1, '1954': 1, 'extensive': 1, 'research': 2, 'did': 7, 'uncover': 1, 'any': 39, 'evidence': 1, 'that': 62, 'u.s.': 8, 'copyright': 20, 'on': 43, 'publication': 1, 'renewed.]': 1, 'i': 152, 'knew': 5, 'john': 13, 'cunningham': 9, 'had': 26, 'been': 6, 'warned': 1, 'graduation': 1, 'day': 2, 'man': 5, 'romantic': 1, 'nature': 2, 'should': 4, 'specialize': 1, 'gynecology.': 1, 'only': 13, 'romanticist;': 1, 'he': 38, 'best': 2, 'looking': 2, 'intern': 1, 'north': 2, 'equator.': 1, 'probability': 1, 'functioned.': 1, 'within': 6, 'three': 8, 'years,': 2, 'married,': 1, 'divorced,': 1, 'disgraced': 1, 'flat': 1, 'broke.': 1, 'so': 19, 'winsome,': 1, 'six-foot,': 1, 'blonde-headed': 1, \"nurse's\": 1, 'idol': 2, 'flashing': 2, 'smile': 2, 'brilliant': 1, 'mind,': 1, 'approached': 1, 'life': 2, 'strangely': 2, 'related': 1, 'goals,': 1, 'namely:': 2, '(1)': 1, 'medicine': 2, 'successfully': 1, 'without': 14, '(2)': 1, 'coming': 3, 'contact': 4, 'his': 24, 'patients,': 1, 'yet': 2, '(3)': 1, 'make': 7, 'back': 9, 'family': 2, 'fortune': 1, 'squandered': 1, 'mixing': 1, 'potions': 1, 'poetry.': 1, 'much': 4, 'less': 5, 'interesting': 2, 'way,': 2, 'i,': 1, 'too,': 1, 'diverted': 1, 'an': 23, 'otherwise': 1, 'promising': 1, 'career': 1, 'conventional': 1, '21st': 1, 'century': 2, 'medicine.': 1, 'my': 50, 'final': 2, 'exam': 1, 'board': 6, 'revealed': 1, 'aptitude': 1, 'landed': 1, 'me': 25, 'fat': 1, 'offer': 2, 'international': 4, 'medical': 9, 'association.': 1, 'job': 1, 'special': 2, 'investigator': 2, 'malpractice': 2, 'control.': 1, 'apparent': 1, 'immunity': 1, 'emotional': 2, 'disturbances': 1, 'sex,': 1, 'ironically,': 1, 'deciding': 1, 'factor': 1, 'appointment.': 1, 'first': 8, 'intimation': 1, 'vicarious': 1, 'came': 4, 'form': 2, 'order': 1, 'complaint': 3, 'hotel': 4, 'celt': 1, 'new': 5, 'york.': 1, 'bussed': 1, 'over': 11, '48-story': 1, 'hostelry': 1, 'questioned': 1, 'manager,': 1, 'fat,': 1, 'bald': 2, 'some': 6, 'forty-two': 1, 'years': 4, 'arches.': 1, '\"a': 1, 'lady': 1, 'doctor,\"': 1, 'mourned,': 1, '\"has': 1, 'served': 1, 'warning': 3, 'she': 47, 'sue': 12, 'unless': 4, 'take': 4, 'out': 14, 'our': 10, 'mezzanine': 1, 'powder': 1, 'rooms.\"': 1, '\"i': 14, 'know,\"': 3, 'said.': 4, '\"she': 2, 'filed': 2, 'brought': 1, 'here.': 2, 'what': 16, 'want': 4, 'know': 5, 'does': 4, 'machine': 9, 'violate': 1, 'being': 2, \"ladies'\": 1, 'room?\"': 1, 'meant,': 1, 'violation': 1, 'beyond': 1, 'usual': 1, 'federal,': 1, 'state': 6, 'county': 1, 'whose': 1, 'ineffectual': 1, 'enforcement': 1, 'rendered': 1, 'them': 7, 'anachronisms': 1, 'age': 1, 'device-gambling.': 1, '\"why': 1, 'remotely': 1, 'concern': 2, 'profession?\"': 1, 'mr.': 4, 'dennithy,': 1, 'manager': 2, 'plucked': 1, 'imperfect': 1, 'petal': 1, 'buttonhole': 1, 'carnation': 1, 'reluctantly': 1, 'pointed': 3, 'out.': 2, '\"these': 2, 'vending,': 1, 'gambling': 1, 'devices.': 2, 'they': 9, 'issue': 1, 'advice--on': 1, 'limited': 6, 'scale,\"': 1, 'added': 1, 'hurriedly.': 1, '\"what!\"': 1, 'yelled': 1, 'face.': 3, '\"let\\'s': 2, 'go': 4, 'see': 5, 'this.\"': 1, 'tastefully': 1, 'decorated': 1, 'lounge': 1, 'jammed': 1, 'females,': 1, 'many': 3, 'whom': 2, 'were': 17, 'bunched': 1, 'little': 7, 'chirping': 1, 'bevies': 1, 'along': 2, 'west': 2, 'wall.': 2, 'stubby': 1, 'queues': 1, 'women': 4, 'gave': 5, 'place': 2, 'look': 9, 'pari-mutuel': 1, 'stand,': 1, 'cheerful,': 1, 'tinkly': 1, 'chatter': 1, 'nothing': 4, 'grim': 1, 'spirit': 1, 'betting.': 1, 'attendants': 1, 'threw': 3, 'up': 9, 'their': 5, 'hands': 2, 'despair': 1, 'when': 17, 'told': 9, 'clear': 2, 'room.': 2, '\"we': 2, 'can': 17, 'hardly': 1, 'get': 6, 'leave': 3, 'night': 1, 'we': 30, 'clean': 1, 'place,\"': 1, 'one': 24, 'complained.': 1, 'impatiently': 1, 'barged': 1, 'in,': 3, 'flashed': 2, 'gold': 1, 'platinum': 1, 'serpent-and-staff': 1, 'badge,': 1, 'shouted.': 1, 'illegal.': 1, 'raid!': 1, 'stand': 2, 'are,': 1, 'every': 2, 'last': 4, 'you!\"': 1, '*': 44, 'it.': 3, 'got': 7, 'trampled': 1, 'stampede': 1, 'high': 2, 'heels.': 1, 'score': 1, 'specialty': 1, 'applied': 1, 'psychology': 1, 'semantics.': 1, 'learned': 3, 'later': 3, 'that,': 1, 'compared': 1, 'cunningham,': 3, 'babe': 1, 'maternity': 1, 'ward.': 1, 'inkling': 1, 'examined': 1, 'ten': 2, 'quarter.': 1, 'two': 3, 'feet': 2, 'across': 4, 'seven': 1, 'foot': 3, 'thick.': 1, 'circular': 1, 'mirror': 1, 'eye': 3, 'level': 1, 'drew': 1, 'female': 2, 'attention,': 2, 'alongside': 1, 'slogan': 1, 'large': 2, 'orange': 1, 'print:': 1, '\"_do': 1, 'really': 3, 'feel': 1, 'well?': 1, 'pains': 1, 'your': 20, 'abdomen?': 1, 'answer': 3, 'correctly': 1, 'following': 5, 'questions': 4, 'learn': 2, 'truth': 1, 'appendicitis': 1, 'symptometer._\"': 1, 'next': 2, 'named': 1, '\"kidney': 1, 'stone': 1, 'symptometer.\"': 1, 'advised': 1, 'about': 13, 'allergies,': 1, 'next,': 2, 'pulmonary': 1, 'tuberculosis,': 1, 'down': 6, 'far': 3, 'end.': 1, 'somewhat': 1, 'larger': 1, 'densest': 1, 'litter': 1, 'carmine-tipped': 1, 'cigarette': 1, 'butts,': 1, 'still': 2, 'smoldering': 1, 'carpet.': 2, 'evident': 1, 'number-one': 1, 'favorite': 1, 'hit': 4, 'parade': 1, 'asked': 3, 'disturbingly:': 1, '\"could': 2, 'be': 38, 'pregnant?\"': 1, 'each': 7, 'bank': 1, 'detailed': 1, 'answer,': 1, 'couched': 1, 'could': 15, 'satisfied': 2, 'pressing': 1, 'buttons.': 1, 'instruction': 2, 'read:': 4, '\"push': 1, 'red': 3, 'button': 4, 'yes,': 1, 'white': 4, 'no,': 1, 'yellow': 1, 'sort': 1, 'of.\"': 1, 'required': 2, 'dollar.': 1, 'say': 1, 'intrigued': 1, 'would': 15, 'searching': 2, 'words.': 2, 'having': 2, 'change': 3, 'demanded': 1, 'silver': 2, 'dollar': 3, 'dennithy.': 1, 'shifted': 1, 'other,': 1, 'never': 2, 'seen': 1, 'genuine': 3, 'blush.': 1, '\"really,': 1, 'klinghammer--\"': 1, '\"doctor': 2, 'klinghammer,\"': 2, 'reminded': 1, 'him.': 6, '\"oh,': 1, 'yes.': 1, 'but--actually,': 1, \"hadn't\": 2, 'realized': 1, 'exact': 1, 'these': 8, 'the,': 1, 'er,': 1, 'diseases': 1, 'which': 16, 'purport': 1, 'diagnose,': 1, 'mean.': 1, 'engineer,': 1, 'shiftin': 1, 'merely': 2, 'said--\"': 1, 'do': 23, 'prosecute': 1, 'innocently': 1, 'victimized': 1, 'business-men,\"': 1, '\"now,': 1, 'dollar,': 1, 'please.\"': 2, '\"but': 4, \"wouldn't\": 2, 'quarter': 1, 'machines--\"': 1, 'trailed': 1, 'off': 3, 'scowl': 1, 'disc': 1, 'fawn-colored': 1, 'vest.': 1, 'sent': 3, 'him': 10, 'coins': 1, 'inserting': 1, 'negative': 1, 'symptomatic': 1, 'answers.': 1, 'upon': 5, 'examination': 2, 'appeared': 1, 'remarkably': 1, 'phrased.': 1, 'several': 4, 'seemed': 2, 'unrelated': 1, 'condition': 2, 'pregnancy,': 1, 'turned': 4, 'doing.': 1, 'depressed': 1, 'soft,': 1, 'melodic': 1, 'chime': 1, 'disguised': 1, 'click': 1, 'mechanism': 2, 'ejected': 1, 'cardboard': 1, 'tab.': 1, '\"if': 4, 'answered': 1, 'honestly': 1, 'observes': 1, 'extremely': 1, 'unlikely': 1, 'pregnant.': 1, 'urged': 3, 'consult': 1, 'competent': 2, 'obstetrician.': 1, 'verify': 2, 'opinion.\"': 1, 'into': 12, 'proper': 3, 'answers': 2, 'describe': 1, 'ambiguous': 1, 'contradictory': 1, 'symptoms.': 2, 'dennithy': 5, 'change,': 1, 'time': 3, 'tab': 1, '\"there': 1, 'possibility': 3, 'pregnancy': 2, 'indicated.': 1, 'physician': 6, 'determine': 3, 'once.': 2, 'there': 6, 'indication': 1, 'might': 5, 'either': 2, 'insincere': 1, 'facetious.': 1, 'inventor': 3, 'wishes': 1, 'point': 2, \"it's\": 3, 'just': 8, 'spent,': 1, 'lady.\"': 1, 'imagine': 1, 'chuckle': 1, 'old': 5, 'dowager,': 1, 'wise': 1, 'ways': 2, 'such': 12, 'matters': 1, 'smugly': 1, 'secure': 2, 'contingency;': 1, 'woman': 2, 'who': 6, 'likely': 2, 'feed': 1, 'confusing': 1, 'data.': 1, 'snatched': 1, 'another': 6, 'coin': 3, 'pushed': 1, 'buttons': 2, 'symptoms': 1, 'week': 2, 'month.': 1, 'card': 5, '\"madame': 1, 'call': 3, 'ambulance.': 1, 'business': 3, 'town!\"': 1, 'plain': 1, 'furious.': 1, 'selling': 1, 'diagnoses,': 1, 'providing': 5, 'penny': 1, 'arcade': 1, 'entertainment': 1, 'as': 19, 'well.': 1, 'then': 8, 'impossibility': 1, 'reporting': 1, 'results': 3, 'investigation': 2, 'struck': 1, 'me.': 9, 'conceivable': 1, 'manner': 2, 'phrase': 5, 'findings': 1, 'maintain': 1, 'dignity': 1, 'profession?': 1, 'and,': 1, 'worse': 1, 'yet,': 1, 'right': 7, 'grounds': 1, 'outlaw': 1, 'confiscate': 2, 'machines?': 1, 'twenty-four': 1, 'quarters': 1, 'confirmed': 3, 'suspicion.': 1, 'all': 24, 'paragons': 1, 'discretion.': 1, 'patient': 3, 'visit': 2, 'her': 28, 'doctor,': 2, 'bore': 1, 'innocuous': 1, 'platitude.': 1, 'designed': 1, 'painlessly': 1, 'accommodate': 1, 'hypochondriac': 2, 'wasting': 1, 'busy': 1, \"doctor's\": 1, 'time.': 2, 'truly': 1, 'sick': 1, 'person': 5, 'indicated': 2, 'symptoms,': 2, 'diagnosis': 2, 'general': 6, 'accurate.': 1, 'once': 3, 'urgently': 1, 'definite.': 1, 'musing': 1, 'ugly': 1, 'expression': 2, 'mirror,': 1, 'light': 3, 'voice': 3, 'behind': 3, 'said,': 5, 'believe': 2, 'wrong': 2, 'room,': 2, 'gentlemen.\"': 1, 'short,': 2, 'bronzed,': 1, 'curly': 1, 'hair.': 1, 'wore': 1, 'trim': 1, 'flannel': 1, 'slacks': 2, 'dead': 1, 'white.': 1, 'immaculate': 1, 'blouse': 2, 'slung': 1, 'pair': 1, 'straps,': 1, 'supporting': 1, 'small': 5, 'tool': 1, 'kit,': 1, 'stout': 1, 'leather': 1, 'pouch': 1, 'rested': 1, 'shapely': 1, 'hip.': 1, 'looked,': 1, 'embarrassed': 1, 'glance,': 1, 'cute,': 1, 'feminine,': 1, 'intelligent': 1, 'quite': 3, 'amused.': 1, '\"we,': 1, 'ah,': 1, 'intruding,': 1, 'miss,\"': 1, 'spluttered.': 1, 'cleared': 1, 'room': 1, 'show': 3, 'equipment': 3, 'to--\"': 1, 'kicked': 1, 'shin': 1, '\"--to': 1, '_mister_': 1, 'klinghammer.': 1, 'he--has': 1, 'coast.': 1, 'interested.\"': 1, 'reason': 1, 'evasion': 1, 'fact': 1, 'emblazoned': 1, 'left': 4, 'breast': 1, 'legend:': 1, '\"jaysee': 1, 'service\"': 1, '\"clever': 1, 'machines,\"': 1, 'flattered.': 1, '\"well': 1, 'based': 3, 'feminine': 3, 'psychology,\"': 1, 'added,': 1, 'entirely': 1, 'overlooking': 1, 'reasonably': 1, 'expected': 1, 'same': 6, 'psychology.': 1, 'service': 1, 'them,\"': 1, 'said': 13, 'shortly.': 1, '\"please': 1, 'step': 1, 'aside': 1, 'operate.\"': 1, 'long,': 1, 'swung': 1, 'open': 2, 'top': 1, 'panel.': 1, 'apparently': 1, 'prospective': 1, 'customer,': 1, 'let': 1, 'on.': 1, 'swift': 1, 'inside': 2, 'virulent': 1, 'case': 1, 'quim-quim.': 1, 'here': 3, 'simple': 3, 'coin-snatcher.': 1, 'switches.': 1, 'ran': 3, 'leads': 1, 'panel': 1, 'bristled': 1, 'tiny': 3, 'vacuum': 1, 'tubes.': 1, 'uncomfortably': 1, 'remindful': 1, 'latest': 1, 'electronic': 29, 'calculators': 1, 'rapidly': 1, 'gaining': 1, 'reputation': 1, 'being,': 1, '\"man\\'s': 1, 'brain.\"': 1, '\"tell': 2, 'me,': 5, 'miss--\"': 1, '\"_doctor_': 1, 'calicoo,\"': 1, 'prompted': 1, 'pleasantly,': 1, 'slipped': 2, 'test': 3, 'prods': 1, 'miniature': 1, 'meter': 1, \"machine's\": 1, 'mercenary': 1, 'heart.': 1, 'dr.': 7, 'calicoo,': 1, 'how': 6, 'touch': 1, 'supplier': 1, 'equipment?\"': 1, 'handed': 2, 'slightly': 1, 'interested': 1, 'dropped': 1, 'stability': 1, 'quotient': 1, 'least': 3, 'points.': 1, 'than': 9, 'provocative': 1, 'blue': 3, 'eyes.': 1, 'broke': 1, 'asked,': 1, 'what?\"': 1, '\"philosophy.': 1, 'electronics': 1, 'mathematics.': 1, \"don't\": 1, 'run': 1, 'hotel,\"': 1, 'shrewdly.': 1, '\"make': 1, 'liar': 1, 'choose,\"': 1, 'her,': 1, 'kind': 2, 'enough': 2, 'to,\"': 1, 'glanced': 1, 'card,': 1, '\"to': 2, 'cunningham?\"': 1, '\"i\\'ll': 1, 'you,\"': 3, 'nodded,': 1, 'hardened': 1, 'little,': 1, 'snooper': 1, 'patent-jumper': 1, 'favor.\"': 1, 'invited': 1, 'candor,': 1, 'showed': 1, 'badge.': 1, 'mouth': 1, 'pulled': 3, 'startled': 1, '\"o,\"': 1, 'like': 9, 'oversized,': 1, 'pitted': 1, 'cherry.': 1, 'clinking': 1, 'quarters,': 1, 'trying': 3, 'figure': 3, 'possible': 2, 'scandal.': 1, 'elevator': 1, 'basement': 1, 'garage': 1, 'commented': 1, 'acidly,': 1, '\"you': 8, 'must': 10, 'known': 2, 'inevitable,': 1, 'course?\"': 1, 'contrary,\"': 1, 'parried,': 1, 'notion': 1, 'm.p.': 3, 'sleuth': 1, 'ninety-two': 1, 'wear': 1, 'coat': 1, 'stethoscope': 1, 'side': 3, 'pocket.': 1, 'seem': 1, 'youth': 1, 'rather': 2, 'charming': 1, 'virility,': 1, 'doctor.\"': 1, '\"cut': 1, 'flattery,\"': 1, 'find': 2, 'car.\"': 1, 'address': 2, 'brooklyn.': 1, 'sedan': 1, 'cross-town': 2, 'tunnel': 6, 'entrance,': 1, 'adjusted': 1, 'automatics': 1, 'suddenly.': 1, 'dim': 2, 'reflection': 1, 'headlights': 1, 'dull-painted': 1, 'walls': 1, 'one-way': 1, 'face': 4, 'ghostly': 1, 'loveliness.': 1, 'become': 1, 'sharply': 1, 'aware': 2, 'phenomenon,': 1, 'brushed': 1, 'light,': 1, 'experimental': 1, 'kiss': 3, 'lips.': 1, 'volume': 1, 'ii,': 1, \"bankawaya's\": 1, '\"twenty-first': 1, 'reactions': 1, 'love': 4, 'stimulus\"': 1, 'notwithstanding,': 1, 'socially-adjusted,': 1, 'medically-trained': 1, 'professionally-restrained': 1, 'instincts': 1, 'played': 1, 'rotten': 1, 'trick': 1, 'instead': 1, 'staring': 1, 'cool': 2, 'calming': 1, 'proper,': 1, 'chilling': 1, 'remark,': 1, 'responded': 1, \"frog's\": 1, 'leg': 1, 'electric': 1, 'shock.': 1, 'chin': 1, 'jerked': 1, 'follow': 2, 'sweetest': 1, 'sensation': 1, 'remember.': 1, \"didn't\": 7, 'go.': 1, 'retreated': 1, 'inches.': 1, 'curved': 1, 'there,': 1, 'car': 2, 'lurched.': 1, 'made': 4, 'bad': 1, 'connection': 1, 'half': 2, 'mouth,': 1, 'slight': 1, 'correction': 1, 'part': 6, 'squared': 1, 'us': 3, 'outrageously': 1, 'described': 2, 'texts': 2, 'basic,': 1, 'primary,': 1, 'wooing': 1, 'gesture.': 2, 'after': 5, 'first,': 2, 'delirious': 1, 'second': 5, 'frame.': 1, 'moment,': 1, 'care.': 1, \"wasn't\": 1, 'until': 4, 'minutes': 1, 'elapsed': 1, 'doctor': 5, \"calicoo's\": 1, 'resolve': 1, 'collapsed,': 1, 'mean': 2, 'meant': 2, 'herself.': 2, 'tore': 1, 'arms': 2, 'cry.': 2, '\"look': 1, 'out!\"': 1, 'became': 2, 'unnoticed.': 1, \"tunnel's\": 1, 'exit': 2, 'manual': 1, 'vehicle': 1, 'control': 2, 'necessary.': 1, 'trembling': 1, 'gripped': 1, 'controls': 1, 'knuckles': 1, 'knobs.': 1, 'past': 2, 'patrol': 1, 'station': 1, 'alert': 1, 'faces': 1, 'checked': 1, 'interior': 1, 'car,': 2, 'think': 5, 'mind.': 1, 'hooked': 1, 'good.': 1, 'why': 3, 'through': 5, 'it?\"': 2, 'referred': 1, 'easy': 2, 'shooting': 1, 'tube': 2, \"other's\": 1, 'thereby': 1, 'violating': 1, 'safety': 1, 'code': 1, 'passage.': 1, 'frame': 2, 'put': 2, 'klinghammer': 3, 'tabloid': 1, 'front': 1, 'page,': 1, 'companion': 1, 'chosen': 2, 'file': 2, 'complaint--with': 1, 'police': 1, 'witnesses': 1, 'act.': 1, 'hobby': 1, 'own,': 1, 'probably': 3, 'lucrative': 1, 'building': 1, 'phantom': 1, 'symptom': 1, 'machines.': 2, 'guess': 2, 'overdid': 1, 'it,\"': 1, 'simply.': 1, 'began': 3, 'quivered.': 1, 'pat': 1, 'gently': 1, 'shoulder,': 2, 'tears': 2, 'mercury': 1, 'retort.': 1, '\"let': 2, 'assume': 1, 'enemies,\"': 1, 'regaining': 1, 'portion': 1, 'composure': 1, 'stuffiness.': 1, '\"so': 1, '_are_': 1, 'frustrated': 1, 'mata': 1, 'hari;': 1, 'perhaps': 1, \"i'm\": 5, 'side.': 1, 'acting': 2, 'orders?': 1, 'up?\"': 1, 'shook': 1, 'head.': 2, '\"when': 1, 'went': 5, 'cunningham.': 3, 'kissed': 1, 'you,': 2, 'right,': 1, 'own': 1, 'idea.': 2, 'impulsive,': 1, 'guess.\"': 1, 'caught': 3, 'tense': 1, 'sentence.': 1, 'loves': 2, 'middle': 1, 'tunnel?\"': 1, 'blurted.': 1, 'whereupon': 1, '\"don\\'t\"': 1, 'mentioned': 1, 'lecture.': 1, 'slewed': 1, 'curb.': 1, 'jabbed': 1, 'emergency': 1, 'stop': 1, 'switch,': 1, 'leaned': 4, 'slapped': 1, 'door.': 2, '\"walk!\"': 1, 'commanded.': 1, 'remaining': 2, 'fairly': 1, 'steaming': 1, 'cheeks.': 1, 'smart': 1, 'fumble': 1, 'apology.': 1, 'walked.': 1, 'found': 3, 'cab,': 1, 'chance': 2, 'clearly.': 1, 'cabby': 1, 'bored': 1, 'whole': 4, 'way': 5, 'excited': 1, 'news': 1, 'opening': 1, 'brooklyn': 4, 'centennial': 1, 'celebration.': 1, 'spring': 2, 'baseball,': 1, 'bums': 1, 'celebrating': 1, 'one-hundredth': 1, 'year': 2, 'league.': 1, '\"only': 2, \"we're\": 1, 'changing': 1, 'name': 4, \"'de\": 3, \"bums'\": 1, \"boids.'\": 1, \"blueboids'\": 1, 'woulda': 1, 'prettier,': 1, 'hockey': 1, 'foist.\"': 1, 'spring.': 2, 'baseball.': 1, 'blue.': 2, 'blueboids.': 3, 'platitudinous': 1, 'slot-machines.': 1, 'stood': 1, 'gray,': 1, 'translucent': 1, 'door': 2, 'penthouse': 1, 'apartment,': 1, 'something': 1, 'eager,': 1, 'efficient,': 1, 'young': 1, 'remarkable': 2, 'stability.': 1, 'bed-rock': 1, 'quicksand': 1, 'tunnel.': 2, 'answered.': 1, 'cut': 3, 'above': 1, 'adored': 1, 'video': 2, 'movie': 1, 'screen,': 1, 'even': 6, 'unpressed': 1, 'beach': 1, 'shirt': 1, 'gaudier.': 1, 'looked': 4, 'moment': 3, '\"dr.': 1, 'sledgehammer,': 1, 'presume?\"': 1, '\"klinghammer,\"': 1, 'corrected.': 1, '\"sorry.': 1, 'confused': 1, 'details.': 1, 'come': 3, 'sue.': 1, 'calicoo.': 3, 'disrupting': 1, 'thought.': 1, 'guy': 1, \"she's\": 1, 'with.': 1, 'malpractice?': 1, 'doubt.': 1, 'followed': 1, 'spacious,': 1, 'skylighted': 1, 'corner': 1, 'instantly': 1, 'eye,': 1, 'because': 4, 'contained': 1, 'sue,': 2, 'second,': 1, 'orderly': 1, 'spot': 1, 'littered': 1, 'place.': 2, 'sat': 1, 'office-space': 1, 'desk,': 1, 'furiously': 1, 'filing': 1, 'fingernail': 1, 'wastebasket.': 1, 'up.': 2, 'tidiness': 1, 'ended': 1, 'there.': 2, 'balance': 1, 'chamber': 1, 'fair': 1, 'impression': 1, 'wholesale': 1, 'video-repair': 1, 'shop': 1, 'moving': 1, 'day.': 1, 'benches': 2, 'racks': 1, 'spaced': 1, 'random,': 1, 'loaded': 1, 'gear,': 1, 'meters,': 1, 'cable': 1, 'tools.': 1, 'unassembled': 1, 'units': 1, 'squatted': 1, 'semicircle': 1, 'framework': 1, 'end': 3, 'laboratory.': 1, '\"may': 1, 'alone?\"': 1, 'asked.': 1, '\"alone?\"': 1, '\"your': 1, 'girl': 3, 'friend,': 1, 'there,\"': 1, 'bitterly.': 1, 'tossed': 1, 'blond': 1, 'head': 1, 'laughed.': 1, '\"girl': 1, 'friend?': 1, 'fiend': 1, 'calls': 2, 'herself': 1, 'partner?': 1, 'huh-uh!': 1, 'friends': 2, \"let's\": 1, 'introduce': 1, 'you.\"': 3, 'started': 2, 'door,': 1, 'unmistakable': 1, 'revelry': 1, 'cocktail': 1, 'party': 3, 'burst': 1, 'himself,': 1, 'sober.': 1, 'hissed,': 1, 'mention': 1, 'anything': 3, \"i'll\": 3, 'brain': 1, 'you!': 1, 'anything!': 1, 'understand?\"': 1, 'chased': 1, 'hauled': 1, 'hand': 2, 'clipped': 1, 'carefully': 1, 'other.': 1, 'slammed': 1, '\"help': 1, 'sober': 1, 'up.\"': 1, 'whistled': 1, 'softly.': 3, '\"he\\'s': 1, 'drunk.': 1, 'bring': 1, \"you'll\": 1, 'out.\"': 1, 'worked': 1, 'heavy': 1, 'neck': 1, 'eyes': 2, 'flickered.': 1, 'mood': 1, 'comfortable,': 1, 'propped': 1, 'against': 4, 'packing-case': 1, 'took': 4, '\"what': 2, 'travesty': 1, 'this?\"': 1, 'began.': 1, 'yawned': 1, 'join': 1, 'party.': 1, '\"call': 1, 'patty-cake': 1, 'baked,\"': 1, 'closed': 1, 'glare': 1, 'hostility': 1, 'gradually': 1, 'vanished': 1, 'handsome': 1, 'better.': 1, 'lit': 1, 'cigarette,': 1, 'thought': 6, 'smiled': 2, '\"have': 2, 'kissing': 1, 'partner?\"': 1, 'blurbled': 1, 'throat.': 1, 'on,': 3, 'did.': 1, 'often': 2, 'conjectured': 1, 'bottle': 2, \"sue's\": 2, 'kisses': 1, 'adrenalin': 1, 'obsolete.\"': 1, '\"you--kiss': 1, 'her--often?\"': 1, 'will.': 1, 'twice.': 1, 'work,': 8, 'weeks': 2, 'stitches': 1, 'hard': 1, 'feelings.\"': 1, 'inane': 1, 'persistence.': 1, 'shrugged,': 1, 'be.': 1, 'means': 6, 'matrimony.': 1, 'flunked': 1, \"won't\": 1, 'again.': 1, 'now,': 1, 'match,': 1, 'surely.': 1, 'reports': 1, 'takes': 2, 'view': 1, 'symptometers.': 1, 'report': 3, 'yet?\"': 1, 'warily.': 1, '\"not': 1, 'yet,\"': 1, 'admitted.': 1, '\"and': 2, 'respiration': 1, 'becomes': 1, 'normal': 1, 'again,\"': 1, 'assured': 2, 'realize': 3, 'difficult': 1, 'file.': 1, 'am': 2, 'right?\"': 2, 'hoisted': 1, 'himself': 1, '\"this': 2, 'sure': 1, 'come.': 2, 'would.': 1, 'now': 4, 'relieved.': 1, 'man,': 2, 'klinghammer.\"': 1, 'fished': 1, 'debris': 1, 'offered': 1, 'neighborly': 1, 'preoccupation': 1, 'accepted': 2, 'tilted': 1, 'deciliter': 1, 'senses.': 1, 'too': 3, 'late.': 1, 'thing': 2, 'happened': 1, 'liquefied': 1, 'plutonium': 1, 'bottom.': 1, 'twanged': 1, 'sixty-pound': 1, 'bow,': 1, 'laughing.': 1, 'felt': 1, 'sorry': 1, 'poor,': 1, 'misguided': 1, 'romeo.': 1, 'solution': 3, 'problem': 1, 'spread': 1, 'atlas.': 1, 'slowly': 2, 'vanished.': 1, '\"before': 1, 'discuss': 1, 'further,': 1, \"i'd\": 1, 'impress': 1, 'two.': 1, 'those': 5, 'end.\"': 1, 'heavily': 1, 'bottle,': 1, 'arm': 3, 'led': 1, 'huge,': 1, 'half-created': 1, 'lab.': 1, \"life's\": 1, 'work,\"': 1, 'solemnly.': 1, '\"between': 1, 'exwife': 1, 'mechanical': 1, 'monster,': 1, 'substantial': 1, 'fortune.': 1, 'funds.': 2, 'excised': 1, 'few': 5, 'circuits': 2, 'contraption,': 1, 'window': 1, 'dressing': 1, 'loose': 2, 'key': 1, 'locations': 2, 'congregate.': 1, 'yesterday,': 1, 'operation,': 1, 'sixty': 1, 'gadgets': 2, 'coughed': 1, '$82,000.': 1, 'unfortunately,': 1, 'borrow': 1, 'hundred': 1, 'thousand': 2, 'dollars': 1, 'build': 1, 'them.': 3, 'profit.\"': 1, '\"in': 2, 'week,\"': 2, 'him,': 1, '\"you\\'ll': 1, 'held': 2, 'indicted': 1, 'fraud--unless--\"': 1, '\"unless': 2, 'suppose,\"': 1, 'sneered.': 1, 'drink,\"': 1, 'suitable': 1, 'dramatic': 1, 'pause.': 1, 'eyebrow': 1, 'down,': 1, 'nonplussed,': 1, 'liquor.': 1, 'choked': 1, 'swallow': 1, 'play': 1, 'patty-cake,': 1, 'spin-the-bottle.': 1, 'business,': 1, 'shall': 3, 'again?\"': 1, '\"stay': 1, 'here,': 1, 'kid,': 1, 'hammerhead': 1, 'has': 7, 'idea.\"': 1, 'deliberately': 1, 'around': 3, 'waist': 1, 'tried': 1, 'fraternal': 1, '\"the': 1, '\"don\\'t': 3, 'antagonize': 1, 'help': 3, 'calicoo': 2, 'recovered': 1, 'selfcomposure': 1, 'mislaid': 1, 'sarcastically,': 1, '\"it': 3, \"couldn't\": 2, 'yourself,': 1, '\"quit': 1, 'patronizing,': 1, 'both': 4, 'snapped.': 1, 'embarrassing': 1, 'board.': 1, 'blush': 1, 'horse-laugh.': 1, 'grant': 1, \"can't\": 1, 'testimony': 1, 'easily': 3, 'damn': 1, 'unethical': 1, 'practices': 2, 'else.': 1, 'luck': 1, 'fraud,': 1, 'too.\"': 1, 'synthetic': 1, 'passed': 1, 'between': 1, 'drink.': 1, 'justification': 1, 'retaining': 1, 'yourself': 1, 'cunningham.\"': 1, '\"what\\'s': 1, 'research?\"': 1, 'demanded.': 1, 'case,\"': 1, 'cracked,': 1, '\"nothing': 1, 'scruples': 1, 'improve.\"': 1, 'stamped': 1, 'fun': 1, 'us.': 1, 'wonderful': 1, 'diagnosing': 1, 'correlator': 1, 'finest': 1, 'memory': 1, 'calculating': 1, 'exist': 1, 'anywhere.\"': 1, 'nodded': 2, 'built': 1, 'myself.\"': 1, 'explained': 1, 'earnestly,': 1, 'assimilate': 1, 'coordinate': 1, 'separate': 1, 'including': 10, 'particle': 1, 'clinical': 3, 'data': 1, 'patient.': 1, 'reduce': 1, 'error': 1, 'practically': 2, 'zero.\"': 1, 'works,\"': 1, 'sourly.': 1, 'will,': 1, 'will!\"': 1, '\"of': 2, 'course': 1, 'spend': 1, 'quantitative': 1, 'calibration': 1, 'input': 1, 'circuits,': 1, 'maybe': 1, 'couple': 1, 'qualitative': 1, 'differentiations': 1, 'output.\"': 1, 'see,\"': 1, 'calibrate': 2, 'differentiate': 1, 'necessity': 1, 'practicing': 1, 'provide': 7, 'invented': 2, 'one-armed': 1, 'bandit': 1, 'johns': 1, 'hopkins': 1, 'accent': 1, 'tide': 1, 'over.': 1, '\"right!\"': 1, 'mistake': 1, 'end,\"': 1, '\"now': 1, 'plan.\"': 1, 'forward,': 1, 'far,': 1, 'now.': 1, 'caused': 1, 'sensation.': 1, 'ten-man': 1, 'read': 3, 'called': 1, 'clarify': 1, 'verbally': 1, 'hinted': 1, 'dilemma,': 1, 'desirable': 1, 'alternative': 2, 'facing': 1, 'mortifying': 1, 'legal': 4, 'action': 1, 'restraining': 1, 'present': 1, 'symptometer.': 1, 'entered': 1, 'rich,': 1, 'mahogany': 1, 'chambers,': 1, 'chairman': 1, 'lecture': 1, 'stand.': 1, 'goateed': 1, 'morbidly': 1, 'curious.': 1, 'throat': 1, 'impatiently,': 1, '\"get': 1, 'boy.': 1, \"what's\": 1, 'skinning': 1, 'cat': 1, 'mentioned?\"': 1, '\"honorable': 1, 'doctors,\"': 1, 'self-consciously,': 1, 'difficulties': 1, 'faced.': 1, 'them,': 1, 'suggestion': 2, 'prevail': 1, 'its': 4, 'manufacture': 1, 'clinics.': 1, 'operated': 1, 'testify': 1, 'questioning': 1, 'devices': 1, 'definitely': 1, 'informational': 1, 'assist': 1, 'rapid': 1, 'treatment.\"': 1, 'silence': 1, 'horrified': 1, 'grunts': 2, 'disapproval.': 1, 'continue,': 1, 'please.': 1, 'minor': 1, 'changes': 2, 'recording': 1, 'enable': 1, 'produce': 2, 'coded': 1, 'card.': 1, 'this,': 1, \"physician's\": 1, 'direct': 1, 'staff': 2, 'perform': 1, 'necessary': 1, 'laboratory': 2, 'functions': 1, 'disprove': 1, 'possession,': 1, 'meets': 1, 'spared': 1, 'preliminary': 1, 'examination,': 1, 'redundant,': 1, 'lengthy': 1, 'interview': 2, 'madame': 1, 'recapitulates': 1, 'history': 1, 'hives': 1, 'biliousness.': 1, '\"naturally,': 1, 'operation': 1, 'eliminated.': 1, 'need': 2, 'adjust': 1, 'fees': 3, 'downward': 1, 'performs': 1, 'work': 34, 'efficiently,': 1, 'there?': 1, 'disposal,': 1, 'able': 1, 'double': 1, 'number': 4, 'office': 2, 'per': 1, 'hour.': 1, 'doctor?': 1, 'frees': 1, 'annoying': 1, 'drudgery': 1, 'interviewing.': 1, 'eliminates': 1, 'wait': 1, 'consultation.': 1, 'keeps': 1, 'details': 1, 'makes': 2, 'true': 1, 'executive': 1, 'physician.\"': 1, 'eloquence': 1, 'beginning': 2, 'tell.': 1, 'men': 1, 'long': 3, 'practical': 1, 'advantages': 1, 'undeniable.': 1, 'important': 2, 'point,': 1, 'however,': 2, 'radical': 1, 'distressing': 1, 'bringing': 1, 'court.': 1, 'gray-fringed': 1, 'heads': 1, 'bobbled': 1, 'higher': 1, 'pitch': 1, 'mutters': 1, 'making': 1, 'point.': 1, 'sweating,': 1, 'they.': 1, 'evening': 1, 'phoned': 2, '\"you\\'re': 1, 'flynn,\"': 1, '\"whether': 1, 'not,': 1, 'week.': 1, 'minds.\"': 1, 'laughter': 1, 'background,': 1, 'connection.': 1, 'once,': 1, 'suspiciously': 1, 'smug': 2, 'smirk': 2, '\"thanks,': 1, 'man,\"': 1, '\"wait': 1, 'minute,\"': 1, 'interrupted.': 1, 'reluctant': 1, 'idea?\"': 1, 'babble': 1, 'voices': 1, 'background': 1, 'blur': 1, 'visor': 1, 'distracted': 1, 'away,': 1, 'screen.': 1, '\"sue': 1, 'suite': 1, 'pick': 2, 'tonight': 1, 'celebrate.': 1, 'gotta': 1, 'now.\"': 1, 'idea': 1, 'repugnant,': 1, 'ride': 1, 'not.': 1, 'dressed': 1, 'achieved': 1, 'gala': 1, 'mood.': 1, 'persisted': 1, 'beside': 1, 'again,': 1, 'tunnel,': 1, 'brooklyn,': 1, 'blueboids': 1, 'fluttering': 1, 'identified': 1, 'betrayed': 1, 'hour': 1, 'ago.': 1, '\"what,\"': 1, 'demanded,': 1, 'now?\"': 1, 'eyes,': 1, 'amused': 1, 'her.': 1, 'perversity': 1, 'growing': 1, 'hate': 1, 'refused': 1, 'accept': 2, 'perfectly': 1, 'good': 1, 'answer.': 1, 'sold': 1, 'board,': 1, 'loftily,': 1, '\"that': 3, 'subscribing': 1, 'fantastic': 1, 'diagnoser.\"': 1, '\"nooooo?\"': 1, 'kept': 1, 'told,': 1, 'concentrating': 1, 'while': 2, 'pretending': 1, 'listen.': 1, '\"it\\'s': 1, 'absurd,\"': 1, '\"why,': 1, 'needs': 1, 'five': 1, 'thing.': 1, 'possibilities': 1, 'mass-production.': 1, 'did,': 1, 'outrageous': 1, 'average': 1, 'hospital': 1, 'hire': 1, 'physicians': 1, 'price': 1, 'machine.': 1, 'more:': 1, 'welcome': 1, 'heart': 1, 'gadget': 1, 'voltmeter': 1, 'oilcan?\"': 1, '\"good': 1, 'point,\"': 1, 'exaggerated': 1, 'flounce': 1, 'auburn': 1, 'halo.': 1, 'course,\"': 1, 'conceded,': 1, 'wants': 1, 'fiddle': 1, 'pile': 2, 'junk': 2, 'hobby,': 1, \"that's\": 1, 'business.\"': 1, '\"darrrrrrrling,': 1, \"you've\": 1, 'had,\"': 1, 'lazily.': 1, 'super-gadget': 1, 'assembly': 1, 'jig': 1, 'rack': 1, 'units.\"': 1, 'misled': 1, 'me!\"': 1, 'exploded.': 1, 'understatement': 1, 'sweetly.': 1, 'better': 2, 'salesman': 1, \"we'd\": 1, 'celt.\"': 1, '\"you--you?\"': 1, 'stammered,': 1, 'pulse': 1, 'loud': 1, 'ears.': 1, '\"yes,': 1, 'darling.': 1, 'sweet': 1, 'quickly.': 1, 'suggest': 1, 'somehow': 1, 'crept': 1, 'fingers': 1, 'over-heated': 1, 'collar.': 1, 'understand?': 1, 'trouble,': 1, 'suppose': 1, 'peddling': 1, 'directly': 2, 'clinic?': 1, 'anyway,': 1, 'product': 1, 'ever': 1, 'endorsement': 1, 'association?': 1, 'sheddup!\"': 1, 'resisted': 1, 'pressure': 1, 'arm,': 1, 'strong': 1, 'man.': 1, 'bega-volt': 1, 'everything': 1, 'for,': 1, 'unless--anyhow,': 1, 'curve': 1, 'then.': 1, 'again': 1, 'notice': 4, 'signal': 1, 'light.': 1, 'ticket.': 1, 'updated': 1, 'editions': 3, 'replace': 1, 'previous': 1, 'one--the': 1, 'renamed.': 1, 'creating': 4, 'works': 23, 'print': 1, 'protected': 5, 'law': 5, 'owns': 2, 'works,': 5, 'foundation': 13, '(and': 1, 'you!)': 1, 'distribute': 6, 'permission': 6, 'paying': 3, 'royalties.': 1, 'rules,': 1, 'forth': 8, 'license,': 3, 'apply': 1, 'copying': 2, 'distributing': 6, 'gutenberg-tm': 54, 'protect': 2, 'concept': 2, 'trademark.': 4, 'registered': 2, 'trademark,': 3, 'used': 3, 'charge': 6, 'ebook,': 2, 'except': 4, 'trademark': 6, 'royalties': 2, 'copies': 7, 'complying': 3, 'very': 1, 'easy.': 1, 'nearly': 2, 'purpose': 1, 'creation': 1, 'derivative': 3, 'reports,': 1, 'performances': 1, 'research.': 1, 'ebooks': 5, 'modified': 1, 'printed': 2, 'given': 1, 'away--you': 1, 'law.': 2, 'redistribution': 1, 'subject': 1, 'especially': 1, 'commercial': 1, 'redistribution.': 1, 'start:': 1, 'full': 13, 'please': 3, 'mission': 4, 'promoting': 2, 'free': 5, 'distribution': 6, '(or': 3, 'associated': 6, '\"project': 5, 'gutenberg\"),': 1, 'agree': 9, 'comply': 6, 'available': 2, 'www.gutenberg.org/license.': 1, 'section': 7, '1.': 1, 'redistributing': 2, '1.a.': 1, 'reading': 1, 'indicate': 1, 'read,': 1, 'understand,': 1, 'intellectual': 2, 'property': 2, '(trademark/copyright)': 1, 'agreement.': 3, 'abide': 1, 'agreement,': 6, 'cease': 1, 'return': 3, 'destroy': 2, 'possession.': 1, 'paid': 6, 'fee': 8, 'obtaining': 2, 'access': 10, 'bound': 2, 'obtain': 3, 'refund': 7, 'entity': 3, 'paragraph': 11, '1.e.8.': 2, '1.b.': 1, 'gutenberg\"': 4, 'people': 3, 'things': 2, '1.c': 1, 'below.': 3, 'lot': 1, 'agreement': 9, 'preserve': 1, 'future': 3, 'works.': 4, '1.e': 1, '1.c.': 1, 'literary': 13, 'archive': 13, '(\"the': 1, 'foundation\"': 1, 'pglaf),': 1, 'compilation': 1, 'collection': 3, 'individual': 4, 'public': 3, 'domain': 2, 'states.': 4, 'unprotected': 1, 'claim': 1, 'prevent': 1, 'copying,': 2, 'distributing,': 1, 'performing,': 3, 'displaying': 2, 'references': 2, 'removed.': 1, 'course,': 1, 'hope': 1, 'support': 3, 'freely': 4, 'sharing': 1, 'compliance': 4, 'keeping': 2, 'work.': 5, 'format': 4, 'attached': 1, 'share': 1, 'others.': 1, '1.d.': 1, 'govern': 1, 'countries': 1, 'constant': 1, 'change.': 1, 'outside': 2, 'addition': 1, 'downloading,': 1, 'displaying,': 2, 'representations': 1, 'concerning': 2, 'status': 4, '1.e.': 1, 'removed': 1, 'gutenberg:': 1, '1.e.1.': 2, 'sentence,': 1, 'active': 2, 'links': 3, 'to,': 4, 'immediate': 2, 'appear': 1, 'prominently': 2, 'whenever': 1, '(any': 1, 'appears,': 1, 'associated)': 1, 'accessed,': 1, 'displayed,': 1, 'performed,': 1, 'viewed,': 1, 'copied': 2, 'distributed:': 1, '1.e.2.': 1, 'derived': 1, '(does': 1, 'contain': 2, 'indicating': 1, 'posted': 4, 'holder),': 1, 'charges.': 1, 'appearing': 1, 'requirements': 2, 'paragraphs': 3, '1.e.1': 3, '1.e.7': 2, '1.e.8': 2, '1.e.9.': 3, '1.e.3.': 1, 'holder,': 1, 'additional': 3, 'imposed': 1, 'holder.': 1, 'linked': 1, 'holder': 1, '1.e.4.': 1, 'unlink': 1, 'detach': 1, 'remove': 1, 'files': 1, 'containing': 1, 'gutenberg-tm.': 1, '1.e.5.': 1, 'copy,': 4, 'display,': 1, 'perform,': 1, 'redistribute': 1, 'sentence': 1, 'license.': 2, '1.e.6.': 1, 'convert': 1, 'binary,': 1, 'compressed,': 1, 'marked': 2, 'up,': 1, 'nonproprietary': 1, 'proprietary': 1, 'form,': 1, 'word': 1, 'processing': 1, 'hypertext': 1, 'form.': 2, '\"plain': 2, 'vanilla': 2, 'ascii\"': 2, 'official': 3, 'version': 1, 'website': 4, '(www.gutenberg.org),': 1, 'must,': 1, 'cost,': 1, 'expense': 1, 'user,': 1, 'exporting': 1, 'request,': 1, 'original': 1, 'alternate': 1, 'include': 1, 'specified': 2, '1.e.7.': 1, 'viewing,': 1, 'reasonable': 1, 'provided': 4, 'that:': 1, 'pay': 1, 'royalty': 3, '20%': 1, 'gross': 1, 'profits': 1, 'derive': 1, 'calculated': 1, 'method': 1, 'already': 1, 'calculate': 1, 'applicable': 3, 'taxes.': 1, 'owed': 1, 'owner': 2, 'agreed': 1, 'donate': 1, 'foundation.': 1, 'payments': 3, '60': 1, 'days': 4, 'date': 2, 'prepare': 1, 'legally': 1, 'prepare)': 1, 'periodic': 1, 'tax': 6, 'returns.': 1, 'clearly': 1, '4,': 1, '\"information': 1, 'donations': 14, 'foundation.\"': 1, 'money': 3, 'user': 2, 'notifies': 1, 'writing': 3, 'e-mail)': 1, '30': 1, 'receipt': 2, 's/he': 1, 'require': 1, 'possessed': 1, 'physical': 2, 'medium': 3, 'discontinue': 1, 'provide,': 1, 'accordance': 2, '1.f.3,': 3, 'replacement': 5, 'defect': 3, 'discovered': 1, 'reported': 1, '90': 2, 'wish': 1, 'group': 1, 'different': 1, 'foundation,': 6, '3': 2, '1.f.': 1, '1.f.1.': 1, 'volunteers': 5, 'employees': 1, 'expend': 1, 'considerable': 2, 'effort': 1, 'identify,': 1, 'transcribe': 1, 'proofread': 1, 'collection.': 1, 'despite': 1, 'efforts,': 1, 'stored,': 1, '\"defects,\"': 1, 'as,': 1, 'incomplete,': 1, 'inaccurate': 1, 'corrupt': 1, 'data,': 1, 'transcription': 1, 'errors,': 1, 'infringement,': 1, 'defective': 2, 'damaged': 1, 'disk': 1, 'medium,': 2, 'computer': 2, 'virus,': 1, 'codes': 1, 'damage': 1, 'cannot': 4, 'equipment.': 2, '1.f.2.': 1, 'warranty,': 1, 'disclaimer': 3, 'damages': 2, '-': 3, '\"right': 1, 'refund\"': 1, 'disclaim': 1, 'liability': 1, 'damages,': 1, 'costs': 2, 'expenses,': 2, 'fees.': 1, 'remedies': 1, 'negligence,': 1, 'strict': 1, 'liability,': 2, 'breach': 2, 'warranty': 1, 'contract': 1, '1.f.3.': 2, 'owner,': 2, 'distributor': 1, 'liable': 1, 'actual,': 1, 'direct,': 1, 'indirect,': 1, 'consequential,': 1, 'punitive': 1, 'incidental': 1, 'damage.': 1, 'discover': 1, 'receiving': 1, 'receive': 2, '(if': 1, 'any)': 1, 'sending': 1, 'written': 3, 'explanation': 1, 'received': 5, 'from.': 1, 'explanation.': 1, 'elect': 1, 'lieu': 2, 'refund.': 2, 'electronically,': 1, 'choose': 1, 'opportunity': 1, 'electronically': 1, 'defective,': 1, 'demand': 1, 'further': 1, 'opportunities': 1, 'fix': 1, 'problem.': 1, '1.f.4.': 1, \"'as-is',\": 1, 'warranties': 3, 'kind,': 1, 'express': 1, 'implied,': 1, 'merchantability': 1, 'fitness': 1, 'purpose.': 1, '1.f.5.': 1, 'allow': 1, 'disclaimers': 1, 'certain': 2, 'implied': 1, 'exclusion': 1, 'limitation': 3, 'types': 1, 'damages.': 1, 'violates': 1, 'interpreted': 1, 'maximum': 1, 'permitted': 2, 'invalidity': 1, 'unenforceability': 1, 'provision': 1, 'void': 1, 'provisions.': 1, '1.f.6.': 1, 'indemnity': 1, 'indemnify': 1, 'hold': 1, 'agent': 1, 'employee': 1, 'production,': 1, 'promotion': 1, 'harmless': 1, 'fees,': 1, 'arise': 1, 'indirectly': 1, 'cause': 1, 'occur:': 1, '(a)': 1, '(b)': 1, 'alteration,': 1, 'modification,': 1, 'additions': 1, 'deletions': 1, '(c)': 1, 'cause.': 1, '2.': 1, 'information': 7, 'synonymous': 1, 'formats': 1, 'readable': 1, 'widest': 2, 'variety': 1, 'computers': 1, 'obsolete,': 1, 'old,': 1, 'middle-aged': 1, 'computers.': 1, 'exists': 1, 'efforts': 2, 'hundreds': 1, 'walks': 1, 'life.': 1, 'financial': 1, 'assistance': 1, 'critical': 1, 'reaching': 1, \"gutenberg-tm's\": 1, 'goals': 1, 'ensuring': 1, 'remain': 1, 'generations': 1, '2001,': 1, 'created': 2, 'permanent': 1, 'generations.': 1, 'help,': 1, 'sections': 1, '4': 1, 'page': 2, 'www.gutenberg.org': 2, '3.': 1, 'non-profit': 1, '501(c)(3)': 1, 'educational': 1, 'corporation': 1, 'organized': 1, 'mississippi': 1, 'granted': 1, 'exempt': 2, 'internal': 1, 'revenue': 1, 'service.': 1, \"foundation's\": 3, 'ein': 1, 'federal': 2, 'identification': 1, '64-6221541.': 1, 'contributions': 2, 'deductible': 1, 'extent': 1, \"state's\": 1, 'laws.': 1, '809': 1, '1500': 1, 'west,': 1, 'salt': 1, 'lake': 1, 'city,': 1, 'ut': 1, '84116,': 1, '(801)': 1, '596-1887.': 1, 'email': 2, 'www.gutenberg.org/contact': 1, '4.': 1, 'depends': 1, 'survive': 1, 'widespread': 1, 'carry': 1, 'increasing': 1, 'licensed': 1, 'machine-readable': 1, 'accessible': 1, 'array': 1, 'outdated': 1, '($1': 1, '$5,000)': 1, 'particularly': 1, 'maintaining': 1, 'irs.': 1, 'committed': 1, 'regulating': 1, 'charities': 1, 'charitable': 1, '50': 1, 'uniform': 1, 'effort,': 1, 'paperwork': 1, 'meet': 1, 'keep': 2, 'requirements.': 1, 'solicit': 2, 'confirmation': 1, 'compliance.': 1, 'send': 1, 'particular': 2, 'www.gutenberg.org/donate': 2, 'met': 1, 'solicitation': 1, 'requirements,': 1, 'prohibition': 1, 'accepting': 1, 'unsolicited': 1, 'donors': 1, 'approach': 1, 'offers': 1, 'donate.': 1, 'gratefully': 1, 'accepted,': 1, 'statements': 1, 'treatment': 1, 'alone': 1, 'swamp': 1, 'staff.': 1, 'web': 1, 'pages': 1, 'current': 1, 'donation': 1, 'methods': 1, 'addresses.': 1, 'checks,': 1, 'credit': 1, 'donations.': 1, 'donate,': 1, 'visit:': 1, '5.': 1, 'professor': 1, 'michael': 1, 's.': 1, 'hart': 1, 'originator': 1, 'library': 1, 'shared': 1, 'anyone.': 1, 'forty': 1, 'network': 1, 'volunteer': 1, 'support.': 1, 'editions,': 1, 'included.': 1, 'thus,': 1, 'necessarily': 1, 'paper': 1, 'edition.': 1, 'main': 1, 'pg': 1, 'search': 1, 'facility:': 1, 'includes': 1, 'gutenberg-tm,': 1, 'ebooks,': 1, 'subscribe': 1, 'newsletter': 1, 'hear': 1, 'ebooks.': 1}\n"
     ]
    }
   ],
   "source": [
    "book1 = open(\"data/Book1.txt\", encoding=\"UTF-8\")\n",
    "book1Words = book1.readlines()\n",
    "wordsCount = {}\n",
    "for line in book1Words:\n",
    "    for word in line.split():\n",
    "        word = word.lower()\n",
    "        if word in wordsCount:\n",
    "            wordsCount[word] += 1\n",
    "        else:\n",
    "            wordsCount[word] = 1\n",
    "print(wordsCount)"
   ]
  },
  {
   "cell_type": "markdown",
   "metadata": {},
   "source": [
    "The code below gives us the keys in a list of the 10 highest values in the dictionary in descending order. This shows us the top 10 most mentioned words in *John's Other Practice*."
   ]
  },
  {
   "cell_type": "code",
   "execution_count": 29,
   "metadata": {},
   "outputs": [
    {
     "name": "stdout",
     "output_type": "stream",
     "text": [
      "['the', 'of', 'a', 'to', 'and', 'i', 'in', 'you', 'or', 'with']\n"
     ]
    }
   ],
   "source": [
    "from heapq import nlargest\n",
    "TenHighest = nlargest(10, wordsCount, key = wordsCount.get)\n",
    "print(TenHighest)"
   ]
  },
  {
   "cell_type": "markdown",
   "metadata": {},
   "source": [
    "The code below shows us how many times each of these top 10 words is mentioned in *John's Other Practice*."
   ]
  },
  {
   "cell_type": "code",
   "execution_count": 30,
   "metadata": {},
   "outputs": [
    {
     "name": "stdout",
     "output_type": "stream",
     "text": [
      "the : 468\n",
      "of : 243\n",
      "a : 217\n",
      "to : 195\n",
      "and : 160\n",
      "i : 152\n",
      "in : 135\n",
      "you : 128\n",
      "or : 85\n",
      "with : 84\n"
     ]
    }
   ],
   "source": [
    "for val in TenHighest:\n",
    "    print(val, \":\", wordsCount.get(val))"
   ]
  },
  {
   "cell_type": "markdown",
   "metadata": {},
   "source": [
    "# Book 2 Answer"
   ]
  },
  {
   "cell_type": "markdown",
   "metadata": {},
   "source": [
    "The code below creates a dictionary where the keys are all the male and female pronouns and the values for all are set to 0."
   ]
  },
  {
   "cell_type": "code",
   "execution_count": 31,
   "metadata": {},
   "outputs": [
    {
     "name": "stdout",
     "output_type": "stream",
     "text": [
      "{'he': 0, 'him': 0, 'his': 0, 'himself': 0, 'she': 0, 'her': 0, 'hers': 0, 'herself': 0}\n"
     ]
    }
   ],
   "source": [
    "pronounsCount = {}\n",
    "pronounsCount['he'] = 0\n",
    "pronounsCount['him'] = 0\n",
    "pronounsCount['his'] = 0\n",
    "pronounsCount['himself'] = 0\n",
    "pronounsCount['she'] = 0\n",
    "pronounsCount['her'] = 0\n",
    "pronounsCount['hers'] = 0\n",
    "pronounsCount['herself'] = 0\n",
    "print(pronounsCount)"
   ]
  },
  {
   "cell_type": "markdown",
   "metadata": {},
   "source": [
    "The code below opens *The Cosmic Courtship* and reads all the words in it, updating any of the pronoun keys in the dictionary if a word matches any of them."
   ]
  },
  {
   "cell_type": "code",
   "execution_count": 32,
   "metadata": {},
   "outputs": [
    {
     "name": "stdout",
     "output_type": "stream",
     "text": [
      "{'he': 872, 'him': 222, 'his': 754, 'himself': 64, 'she': 579, 'her': 678, 'hers': 4, 'herself': 40}\n"
     ]
    }
   ],
   "source": [
    "book2 = open(\"data/Book2.txt\", encoding=\"UTF-8\")\n",
    "book2Words = book2.readlines()\n",
    "for line in book2Words:\n",
    "    for word in line.split():\n",
    "        word = word.lower()\n",
    "        if word in pronounsCount:\n",
    "            pronounsCount[word] += 1\n",
    "print(pronounsCount)"
   ]
  },
  {
   "cell_type": "markdown",
   "metadata": {},
   "source": [
    "The code below sums up the times male pronouns were mentioned and the times female pronouns were mentioned in *The Cosmic Courtship*."
   ]
  },
  {
   "cell_type": "code",
   "execution_count": 34,
   "metadata": {},
   "outputs": [
    {
     "name": "stdout",
     "output_type": "stream",
     "text": [
      "Male Pronouns Count: 1912\n",
      "Female Pronouns Count: 1301\n"
     ]
    }
   ],
   "source": [
    "malePronounsCount = pronounsCount['he']\n",
    "malePronounsCount += pronounsCount['him']\n",
    "malePronounsCount += pronounsCount['his']\n",
    "malePronounsCount += pronounsCount['himself']\n",
    "print('Male Pronouns Count: ' + str(malePronounsCount))\n",
    "\n",
    "femalePronounsCount = pronounsCount['she']\n",
    "femalePronounsCount += pronounsCount['her']\n",
    "femalePronounsCount += pronounsCount['hers']\n",
    "femalePronounsCount += pronounsCount['herself']\n",
    "print('Female Pronouns Count: ' + str(femalePronounsCount))"
   ]
  },
  {
   "cell_type": "markdown",
   "metadata": {},
   "source": [
    "The code below compares the male pronouns count and the female pronouns count and tells us whether the pronouns in *The Cosmic Courtship* are predominantly male or female."
   ]
  },
  {
   "cell_type": "code",
   "execution_count": 35,
   "metadata": {},
   "outputs": [
    {
     "name": "stdout",
     "output_type": "stream",
     "text": [
      "Pronouns in The Cosmic Courtship are predominantly male.\n"
     ]
    }
   ],
   "source": [
    "if malePronounsCount > femalePronounsCount:\n",
    "    print('Pronouns in The Cosmic Courtship are predominantly male.')\n",
    "else:\n",
    "    print('Pronouns in The Cosmic Courtship are predominantly female.')"
   ]
  }
 ],
 "metadata": {
  "kernelspec": {
   "display_name": "Python 3",
   "language": "python",
   "name": "python3"
  },
  "language_info": {
   "codemirror_mode": {
    "name": "ipython",
    "version": 3
   },
   "file_extension": ".py",
   "mimetype": "text/x-python",
   "name": "python",
   "nbconvert_exporter": "python",
   "pygments_lexer": "ipython3",
   "version": "3.8.8"
  }
 },
 "nbformat": 4,
 "nbformat_minor": 4
}
